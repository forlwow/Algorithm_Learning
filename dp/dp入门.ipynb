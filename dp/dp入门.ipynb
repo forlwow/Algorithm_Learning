{
 "cells": [
  {
   "cell_type": "markdown",
   "metadata": {
    "collapsed": false
   },
   "source": [
    "#### [198\\. 打家劫舍](/problems/house-robber/)\n",
    "\n",
    "你是一个专业的小偷，计划偷窃沿街的房屋。每间房内都藏有一定的现金，影响你偷窃的唯一制约因素就是相邻的房屋装有相互连通的防盗系统，**如果两间相邻的房屋在同一晚上被小偷闯入，系统会自动报警**。\n",
    "\n",
    "给定一个代表每个房屋存放金额的非负整数数组，计算你 **不触动警报装置的情况下** ，一夜之内能够偷窃到的最高金额。\n",
    "\n",
    "**示例 1：**\n",
    "\n",
    "```\n",
    "输入：[1,2,3,1]\n",
    "输出：4\n",
    "解释：偷窃 1 号房屋 (金额 = 1) ，然后偷窃 3 号房屋 (金额 = 3)。\n",
    "     偷窃到的最高金额 = 1 + 3 = 4 。\n",
    "```\n",
    "\n",
    "**示例 2：**\n",
    "\n",
    "```\n",
    "输入：[2,7,9,3,1]\n",
    "输出：12\n",
    "解释：偷窃 1 号房屋 (金额 = 2), 偷窃 3 号房屋 (金额 = 9)，接着偷窃 5 号房屋 (金额 = 1)。\n",
    "     偷窃到的最高金额 = 2 + 9 + 1 = 12 。\n",
    "```\n",
    "\n",
    "**提示：**\n",
    "\n",
    "*   `1 <= nums.length <= 100`\n",
    "*   `0 <= nums[i] <= 400`"
   ]
  },
  {
   "cell_type": "code",
   "execution_count": null,
   "metadata": {
    "collapsed": false
   },
   "outputs": [],
   "source": [
    "# 自定向下计算 记忆化搜索\n",
    "class Solution:\n",
    "    def rob(self, nums: list[int]) -> int:\n",
    "        n = len(nums)\n",
    "        # 记忆数组\n",
    "        li = [-1] * n\n",
    "        def dfs(i: int) -> int:\n",
    "            if i < 0:\n",
    "                return 0\n",
    "            fro = li[i - 1] if i - 1 >= 0 and li[i - 1] != -1 else dfs(i - 1)\n",
    "            pre = li[i - 2] if i - 2 >= 0 and li[i - 2] != -1 else dfs(i - 2)\n",
    "            res =  max(fro, pre + nums[i])\n",
    "            li[i] = res\n",
    "            return res\n",
    "        return dfs(n-1)"
   ]
  },
  {
   "cell_type": "code",
   "execution_count": null,
   "metadata": {
    "collapsed": false
   },
   "outputs": [],
   "source": [
    "# 自低向上 递推\n",
    "class Solution:\n",
    "    def rob(self, nums: list[int]) -> int:\n",
    "        n = len(nums)\n",
    "        if n > 1:\n",
    "            nums[1] = max(nums[0], nums[1])\n",
    "        for i in range(2, n):\n",
    "            nums[i] = max(nums[i-1], nums[i-2] + nums[i])\n",
    "        return nums[-1]"
   ]
  },
  {
   "cell_type": "markdown",
   "metadata": {
    "collapsed": false
   },
   "source": [
    "#### 0-1背包\n",
    "有$n$个物品，第$i$个物品的体积为$w[i]$，价值为$v[i]$，每个物品至多选一个，求体积不超过$capacity$时的最大价值和\n",
    "**回溯三问**\n",
    "+ 当前操作：枚举第$i$个物品选或不选\n",
    "  + 不选，剩余容量不变\n",
    "  + 选，剩余容量减少$w[i]$\n",
    "+ 子问题：在剩余容量为$c$时，从前$i$个物品中的到的最大和\n",
    "+ 下一个子问题：分类讨论\n",
    "  + 不选：在剩余容量为$c$时，从前$i - 1$个物品中得到的最大价值和\n",
    "  + 选：在剩余容量为$c-w[i]$时，从前$i-1$个物品中得到的最大价值和\n",
    "$dfs(i, c) = max(dfs(i-1, c), dfs(i-1, c-w[i]) + v[i])$"
   ]
  },
  {
   "cell_type": "markdown",
   "metadata": {
    "collapsed": false
   },
   "source": [
    "#### [416. 分割等和子集](https://leetcode.cn/problems/partition-equal-subset-sum/)\n",
    "给你一个整数数组 `nums` 和一个整数 `target` 。\n",
    "\n",
    "向数组中的每个整数前添加 `'+'` 或 `'-'` ，然后串联起所有整数，可以构造一个 **表达式** ：\n",
    "\n",
    "*   例如，`nums = [2, 1]` ，可以在 `2` 之前添加 `'+'` ，在 `1` 之前添加 `'-'` ，然后串联起来得到表达式 `\"+2-1\"` 。\n",
    "\n",
    "返回可以通过上述方法构造的、运算结果等于 `target` 的不同 **表达式** 的数目。\n",
    "\n",
    "**示例 1：**\n",
    "\n",
    "```\n",
    "输入：nums = \\[1,1,1,1,1\\], target = 3\n",
    "输出：5\n",
    "解释：一共有 5 种方法让最终目标和为 3 。\n",
    "-1 + 1 + 1 + 1 + 1 = 3\n",
    "+1 - 1 + 1 + 1 + 1 = 3\n",
    "+1 + 1 - 1 + 1 + 1 = 3\n",
    "+1 + 1 + 1 - 1 + 1 = 3\n",
    "+1 + 1 + 1 + 1 - 1 = 3\n",
    "\n",
    "```\n",
    "\n",
    "**示例 2：**\n",
    "\n",
    "```\n",
    "输入：nums = \\[1\\], target = 1\n",
    "输出：1\n",
    "\n",
    "```\n",
    "\n",
    "**提示：**\n",
    "\n",
    "*   `1 <= nums.length <= 20`\n",
    "*   `0 <= nums[i] <= 1000`\n",
    "*   `0 <= sum(nums[i]) <= 1000`\n",
    "*   `-1000 <= target <= 1000`"
   ]
  },
  {
   "cell_type": "markdown",
   "metadata": {
    "collapsed": false
   },
   "source": [
    "假设所有加+的数字之和为$p$\n",
    "则加符号的数字之和为$-sum(nums) + p$\n",
    "则$target = p + (-s + p) = 2p - s$\n",
    "$\\Rightarrow p = (t + s) // 2$\n",
    "问题转化为选任意元素使其和为$p = (t + s) // 2$"
   ]
  },
  {
   "cell_type": "code",
   "execution_count": null,
   "metadata": {
    "collapsed": false
   },
   "outputs": [],
   "source": [
    "class Solution:\n",
    "    def findTargetSumWays(self, nums: list[int], target: int) -> int:\n",
    "        target += sum(nums)\n",
    "        if target < 0 or target % 2:\n",
    "            return 0\n",
    "        target >>= 1\n",
    "        n = len(nums)\n",
    "        # 元素为非负，因此初始化为-1\n",
    "        cache = [[-1 for _ in range(target + 1)] for _ in range(n)]\n",
    "        def dfs(i, c):\n",
    "            if i < 0:\n",
    "                # 如果刚好减完测可以构造返回1\n",
    "                return 1 if c == 0 else 0\n",
    "            a = cache[i-1][c] if i > 0 and c >= 0 and cache[i-1][c] != -1 else dfs(i-1, c)\n",
    "            if c < nums[i]:\n",
    "                # 容量比当前数小，当前不选\n",
    "                cache[i][c] = a\n",
    "                return a\n",
    "            b = cache[i-1][c-nums[i]] if i > 0 and c-nums[i] > 0 and cache[i-1][c-nums[i]] != -1 else dfs(i-1, c-nums[i])\n",
    "            # 否则返回当前选可以达成的结果数 加上不选的结果数\n",
    "            cache[i][c] = a + b\n",
    "            return a + b\n",
    "        return dfs(n - 1, target)"
   ]
  },
  {
   "attachments": {},
   "cell_type": "markdown",
   "metadata": {},
   "source": [
    "##### c++写法\n",
    "```cpp\n",
    "class Solution {\n",
    "public:\n",
    "    bool dfs(int i, int c, vector<int> &nums, vector<vector<int>> &cache) {\n",
    "        if (i < 0) return c == 0 ? 1 : 0;\n",
    "        int a, b;\n",
    "        a = (i > 0 && c >= 0 &&cache[i-1][c] != -1)? cache[i-1][c]: dfs(i-1, c, nums, cache);\n",
    "        if (i > 0) cache[i-1][c] == a;\n",
    "        if (c < nums[i]) return a;\n",
    "        b = (i > 0 && c - nums[i] >= 0 && cache[i-1][c-nums[i]] != -1)? cache[i-1][c-nums[i]]: dfs(i-1, c-nums[i], nums, cache);\n",
    "        if (i > 0) cache[i-1][c-nums[i]] = b;\n",
    "        return a | b;\n",
    "    }\n",
    "\n",
    "    bool canPartition(vector<int>& nums) {\n",
    "        int target = accumulate(nums.begin(), nums.end(), 0);\n",
    "        int n = nums.size();\n",
    "        if (target & 1) return false;\n",
    "        target >>= 1;\n",
    "        vector<vector<int>> cache(n+1, vector<int>(target + 1, -1));\n",
    "        return dfs(nums.size() - 1, target, nums, cache);\n",
    "    }\n",
    "};\n",
    "```"
   ]
  },
  {
   "cell_type": "code",
   "execution_count": null,
   "metadata": {
    "collapsed": false
   },
   "outputs": [],
   "source": [
    "# 递推\n",
    "class Solution:\n",
    "    def findTargetSumWays(self, nums: list[int], target: int) -> int:\n",
    "        target += sum(nums)\n",
    "        if target < 0 or target % 2:\n",
    "            return 0\n",
    "        target >>= 1\n",
    "        n = len(nums)\n",
    "        # 存结果 默认为0\n",
    "        li = [[0 for _ in range(target + 1)] for _ in range(n + 1)]\n",
    "        li[0][0] = 1\n",
    "        for i, x in enumerate(nums):\n",
    "            for c in range(target + 1):\n",
    "                if c < x:\n",
    "                    li[i+1][c] = li[i][c]\n",
    "                else:\n",
    "                    li[i+1][c] = li[i][c] + li[i][c-x]\n",
    "        return li[n][target]\n"
   ]
  },
  {
   "cell_type": "code",
   "execution_count": null,
   "outputs": [],
   "source": [
    "# 优化空间\n",
    "class Solution:\n",
    "    def findTargetSumWays(self, nums: list[int], target: int) -> int:\n",
    "        target += sum(nums)\n",
    "        if target < 0 or target % 2:\n",
    "            return 0\n",
    "        target >>= 1\n",
    "        n = len(nums)\n",
    "        # 存结果 默认为0\n",
    "        li = [0 for _ in range(target + 1)]\n",
    "        li[0] = 1\n",
    "        for i in nums:\n",
    "            # 0-1背包需要逆推\n",
    "            for c in range(target, i-1, -1):\n",
    "                li[c] = li[c] + li[c-i]\n",
    "        return li[target]"
   ],
   "metadata": {
    "collapsed": false
   }
  },
  {
   "cell_type": "markdown",
   "metadata": {
    "collapsed": false
   },
   "source": [
    "#### 完全背包\n",
    "有$n$个物品，第$i$个物品的体积为$w[i]$，价值为$v[i]$，每个物品**无限次重复选**，求体积不超过$capacity$时的最大价值和\n",
    "**回溯三问**\n",
    "+ 当前操作：枚举第$i$种物品选或不选\n",
    "  + 不选，剩余容量不变\n",
    "  + 选，剩余容量减少$w[i]$\n",
    "+ 子问题：在剩余容量为$c$时，从前$i$种物品中的到的最大和\n",
    "+ 下一个子问题：分类讨论\n",
    "  + 不选：在剩余容量为$c$时，从前$i-1$种物品中得到的最大价值和\n",
    "  + 选：在剩余容量为$c-w[i]$时，从前$i$种物品中得到的最大价值和\n",
    "$dfs(i, c) = max(dfs(i-1, c), dfs(i-1, c-w[i]) + v[i])$"
   ]
  },
  {
   "cell_type": "markdown",
   "source": [
    "#### [322. 零钱兑换](https://leetcode.cn/problems/coin-change)"
   ],
   "metadata": {
    "collapsed": false
   }
  },
  {
   "cell_type": "code",
   "execution_count": 3,
   "outputs": [],
   "source": [
    "# 递归\n",
    "from functools import cache\n",
    "class Solution:\n",
    "    def coinChange(self, coins: list[int], amount: int) -> int:\n",
    "        n = len(coins)\n",
    "        @cache\n",
    "        def dfs(i, c):\n",
    "            if i < 0:\n",
    "                return 0 if c == 0 else float(\"inf\")\n",
    "            if c < coins[i]:\n",
    "                return dfs(i-1, c)\n",
    "            return min(dfs(i-1, c), dfs(i, c-coins[i])+ 1)\n",
    "        a = dfs(n-1, amount)\n",
    "        return a if a < float(\"inf\") else -1"
   ],
   "metadata": {
    "collapsed": false
   }
  },
  {
   "cell_type": "code",
   "execution_count": null,
   "outputs": [],
   "source": [
    "# 递推\n",
    "class Solution:\n",
    "    def coinChange(self, coins: list[int], amount: int) -> int:\n",
    "        n = len(coins)\n",
    "        dp = [[float(\"inf\") for _ in range(amount+1)] for _ in range(n+1)]\n",
    "        dp[0][0] = 0\n",
    "        for i, val in enumerate(coins):\n",
    "            for c in range(amount+1):\n",
    "                if c < val:\n",
    "                    dp[i+1][c] = dp[i][c]\n",
    "                else:\n",
    "                    dp[i+1][c] = min(dp[i][c], dp[i+1][c-val] + 1)\n",
    "        a = dp[n][amount]\n",
    "        return a if a < float(\"inf\") else -1"
   ],
   "metadata": {
    "collapsed": false
   }
  },
  {
   "cell_type": "code",
   "execution_count": 4,
   "outputs": [
    {
     "ename": "KeyboardInterrupt",
     "evalue": "",
     "output_type": "error",
     "traceback": [
      "\u001B[1;31m---------------------------------------------------------------------------\u001B[0m",
      "\u001B[1;31mKeyboardInterrupt\u001B[0m                         Traceback (most recent call last)",
      "Cell \u001B[1;32mIn [4], line 18\u001B[0m\n\u001B[0;32m     15\u001B[0m     b \u001B[38;5;241m=\u001B[39m dfs(i, c\u001B[38;5;241m-\u001B[39mli[i], n)\n\u001B[0;32m     16\u001B[0m     \u001B[38;5;28;01mreturn\u001B[39;00m \u001B[38;5;28mmax\u001B[39m(a, b)\n\u001B[1;32m---> 18\u001B[0m \u001B[38;5;28mprint\u001B[39m(\u001B[43mdfs\u001B[49m\u001B[43m(\u001B[49m\u001B[38;5;241;43m9\u001B[39;49m\u001B[43m,\u001B[49m\u001B[43m \u001B[49m\u001B[38;5;241;43m300\u001B[39;49m\u001B[43m,\u001B[49m\u001B[43m \u001B[49m\u001B[38;5;241;43m0\u001B[39;49m\u001B[43m)\u001B[49m)\n",
      "Cell \u001B[1;32mIn [4], line 10\u001B[0m, in \u001B[0;36mdfs\u001B[1;34m(i, c, n)\u001B[0m\n\u001B[0;32m      8\u001B[0m \u001B[38;5;28;01mif\u001B[39;00m i \u001B[38;5;241m<\u001B[39m \u001B[38;5;241m0\u001B[39m:\n\u001B[0;32m      9\u001B[0m     \u001B[38;5;28;01mreturn\u001B[39;00m n \u001B[38;5;28;01mif\u001B[39;00m c \u001B[38;5;241m>\u001B[39m\u001B[38;5;241m=\u001B[39m \u001B[38;5;241m0\u001B[39m \u001B[38;5;28;01melse\u001B[39;00m \u001B[38;5;241m0\u001B[39m\n\u001B[1;32m---> 10\u001B[0m a \u001B[38;5;241m=\u001B[39m \u001B[43mdfs\u001B[49m\u001B[43m(\u001B[49m\u001B[43mi\u001B[49m\u001B[38;5;241;43m-\u001B[39;49m\u001B[38;5;241;43m1\u001B[39;49m\u001B[43m,\u001B[49m\u001B[43m \u001B[49m\u001B[43mc\u001B[49m\u001B[43m,\u001B[49m\u001B[43m \u001B[49m\u001B[43mn\u001B[49m\u001B[43m)\u001B[49m\n\u001B[0;32m     11\u001B[0m n \u001B[38;5;241m*\u001B[39m\u001B[38;5;241m=\u001B[39m \u001B[38;5;241m10\u001B[39m\n\u001B[0;32m     12\u001B[0m n \u001B[38;5;241m+\u001B[39m\u001B[38;5;241m=\u001B[39m num[i]\n",
      "Cell \u001B[1;32mIn [4], line 10\u001B[0m, in \u001B[0;36mdfs\u001B[1;34m(i, c, n)\u001B[0m\n\u001B[0;32m      8\u001B[0m \u001B[38;5;28;01mif\u001B[39;00m i \u001B[38;5;241m<\u001B[39m \u001B[38;5;241m0\u001B[39m:\n\u001B[0;32m      9\u001B[0m     \u001B[38;5;28;01mreturn\u001B[39;00m n \u001B[38;5;28;01mif\u001B[39;00m c \u001B[38;5;241m>\u001B[39m\u001B[38;5;241m=\u001B[39m \u001B[38;5;241m0\u001B[39m \u001B[38;5;28;01melse\u001B[39;00m \u001B[38;5;241m0\u001B[39m\n\u001B[1;32m---> 10\u001B[0m a \u001B[38;5;241m=\u001B[39m \u001B[43mdfs\u001B[49m\u001B[43m(\u001B[49m\u001B[43mi\u001B[49m\u001B[38;5;241;43m-\u001B[39;49m\u001B[38;5;241;43m1\u001B[39;49m\u001B[43m,\u001B[49m\u001B[43m \u001B[49m\u001B[43mc\u001B[49m\u001B[43m,\u001B[49m\u001B[43m \u001B[49m\u001B[43mn\u001B[49m\u001B[43m)\u001B[49m\n\u001B[0;32m     11\u001B[0m n \u001B[38;5;241m*\u001B[39m\u001B[38;5;241m=\u001B[39m \u001B[38;5;241m10\u001B[39m\n\u001B[0;32m     12\u001B[0m n \u001B[38;5;241m+\u001B[39m\u001B[38;5;241m=\u001B[39m num[i]\n",
      "Cell \u001B[1;32mIn [4], line 15\u001B[0m, in \u001B[0;36mdfs\u001B[1;34m(i, c, n)\u001B[0m\n\u001B[0;32m     13\u001B[0m \u001B[38;5;28;01mif\u001B[39;00m c \u001B[38;5;241m<\u001B[39m li[i]:\n\u001B[0;32m     14\u001B[0m     \u001B[38;5;28;01mreturn\u001B[39;00m a\n\u001B[1;32m---> 15\u001B[0m b \u001B[38;5;241m=\u001B[39m \u001B[43mdfs\u001B[49m\u001B[43m(\u001B[49m\u001B[43mi\u001B[49m\u001B[43m,\u001B[49m\u001B[43m \u001B[49m\u001B[43mc\u001B[49m\u001B[38;5;241;43m-\u001B[39;49m\u001B[43mli\u001B[49m\u001B[43m[\u001B[49m\u001B[43mi\u001B[49m\u001B[43m]\u001B[49m\u001B[43m,\u001B[49m\u001B[43m \u001B[49m\u001B[43mn\u001B[49m\u001B[43m)\u001B[49m\n\u001B[0;32m     16\u001B[0m \u001B[38;5;28;01mreturn\u001B[39;00m \u001B[38;5;28mmax\u001B[39m(a, b)\n",
      "    \u001B[1;31m[... skipping similar frames: dfs at line 10 (1 times)]\u001B[0m\n",
      "Cell \u001B[1;32mIn [4], line 15\u001B[0m, in \u001B[0;36mdfs\u001B[1;34m(i, c, n)\u001B[0m\n\u001B[0;32m     13\u001B[0m \u001B[38;5;28;01mif\u001B[39;00m c \u001B[38;5;241m<\u001B[39m li[i]:\n\u001B[0;32m     14\u001B[0m     \u001B[38;5;28;01mreturn\u001B[39;00m a\n\u001B[1;32m---> 15\u001B[0m b \u001B[38;5;241m=\u001B[39m \u001B[43mdfs\u001B[49m\u001B[43m(\u001B[49m\u001B[43mi\u001B[49m\u001B[43m,\u001B[49m\u001B[43m \u001B[49m\u001B[43mc\u001B[49m\u001B[38;5;241;43m-\u001B[39;49m\u001B[43mli\u001B[49m\u001B[43m[\u001B[49m\u001B[43mi\u001B[49m\u001B[43m]\u001B[49m\u001B[43m,\u001B[49m\u001B[43m \u001B[49m\u001B[43mn\u001B[49m\u001B[43m)\u001B[49m\n\u001B[0;32m     16\u001B[0m \u001B[38;5;28;01mreturn\u001B[39;00m \u001B[38;5;28mmax\u001B[39m(a, b)\n",
      "    \u001B[1;31m[... skipping similar frames: dfs at line 15 (37 times), dfs at line 10 (5 times)]\u001B[0m\n",
      "Cell \u001B[1;32mIn [4], line 10\u001B[0m, in \u001B[0;36mdfs\u001B[1;34m(i, c, n)\u001B[0m\n\u001B[0;32m      8\u001B[0m \u001B[38;5;28;01mif\u001B[39;00m i \u001B[38;5;241m<\u001B[39m \u001B[38;5;241m0\u001B[39m:\n\u001B[0;32m      9\u001B[0m     \u001B[38;5;28;01mreturn\u001B[39;00m n \u001B[38;5;28;01mif\u001B[39;00m c \u001B[38;5;241m>\u001B[39m\u001B[38;5;241m=\u001B[39m \u001B[38;5;241m0\u001B[39m \u001B[38;5;28;01melse\u001B[39;00m \u001B[38;5;241m0\u001B[39m\n\u001B[1;32m---> 10\u001B[0m a \u001B[38;5;241m=\u001B[39m \u001B[43mdfs\u001B[49m\u001B[43m(\u001B[49m\u001B[43mi\u001B[49m\u001B[38;5;241;43m-\u001B[39;49m\u001B[38;5;241;43m1\u001B[39;49m\u001B[43m,\u001B[49m\u001B[43m \u001B[49m\u001B[43mc\u001B[49m\u001B[43m,\u001B[49m\u001B[43m \u001B[49m\u001B[43mn\u001B[49m\u001B[43m)\u001B[49m\n\u001B[0;32m     11\u001B[0m n \u001B[38;5;241m*\u001B[39m\u001B[38;5;241m=\u001B[39m \u001B[38;5;241m10\u001B[39m\n\u001B[0;32m     12\u001B[0m n \u001B[38;5;241m+\u001B[39m\u001B[38;5;241m=\u001B[39m num[i]\n",
      "    \u001B[1;31m[... skipping similar frames: dfs at line 15 (16 times)]\u001B[0m\n",
      "Cell \u001B[1;32mIn [4], line 15\u001B[0m, in \u001B[0;36mdfs\u001B[1;34m(i, c, n)\u001B[0m\n\u001B[0;32m     13\u001B[0m \u001B[38;5;28;01mif\u001B[39;00m c \u001B[38;5;241m<\u001B[39m li[i]:\n\u001B[0;32m     14\u001B[0m     \u001B[38;5;28;01mreturn\u001B[39;00m a\n\u001B[1;32m---> 15\u001B[0m b \u001B[38;5;241m=\u001B[39m \u001B[43mdfs\u001B[49m\u001B[43m(\u001B[49m\u001B[43mi\u001B[49m\u001B[43m,\u001B[49m\u001B[43m \u001B[49m\u001B[43mc\u001B[49m\u001B[38;5;241;43m-\u001B[39;49m\u001B[43mli\u001B[49m\u001B[43m[\u001B[49m\u001B[43mi\u001B[49m\u001B[43m]\u001B[49m\u001B[43m,\u001B[49m\u001B[43m \u001B[49m\u001B[43mn\u001B[49m\u001B[43m)\u001B[49m\n\u001B[0;32m     16\u001B[0m \u001B[38;5;28;01mreturn\u001B[39;00m \u001B[38;5;28mmax\u001B[39m(a, b)\n",
      "\u001B[1;31mKeyboardInterrupt\u001B[0m: "
     ]
    }
   ],
   "source": [
    "from functools import cache\n",
    "\n",
    "# 请在此输入您的代码\n",
    "li = [6, 2, 5, 5, 4, 5, 6, 3, 7, 6]\n",
    "num = [i for i in range(10)]\n",
    "\n",
    "def dfs(i, c, n):\n",
    "    if i < 0:\n",
    "        return n if c >= 0 else 0\n",
    "    a = dfs(i-1, c, n)\n",
    "    n *= 10\n",
    "    n += num[i]\n",
    "    if c < li[i]:\n",
    "        return a\n",
    "    b = dfs(i, c-li[i], n)\n",
    "    return max(a, b)\n",
    "\n",
    "print(dfs(9, 300, 0))"
   ],
   "metadata": {
    "collapsed": false
   }
  }
 ],
 "metadata": {
  "kernelspec": {
   "display_name": "Python 3",
   "language": "python",
   "name": "python3"
  },
  "language_info": {
   "codemirror_mode": {
    "name": "ipython",
    "version": 2
   },
   "file_extension": ".py",
   "mimetype": "text/x-python",
   "name": "python",
   "nbconvert_exporter": "python",
   "pygments_lexer": "ipython2",
   "version": "2.7.6"
  }
 },
 "nbformat": 4,
 "nbformat_minor": 0
}
