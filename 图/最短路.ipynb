{
 "cells": [
  {
   "cell_type": "markdown",
   "source": [
    "#### 邻接矩阵"
   ],
   "metadata": {
    "collapsed": false
   }
  },
  {
   "cell_type": "code",
   "execution_count": null,
   "metadata": {
    "collapsed": true
   },
   "outputs": [],
   "source": [
    "from typing import List, Optional\n",
    "from copy import deepcopy\n",
    "\n",
    "class Graph:\n",
    "    def __init__(self, n: int, edges: List[List[int]]):\n",
    "        self.g = [[0 for _ in range(n)] for _ in range(n)]\n",
    "        self.n = n\n",
    "        for s, e, c in edges:\n",
    "            self.g[s][e] = c\n",
    "\n",
    "    def shortestpath(self, start: int, end: int) -> int:\n",
    "        visited = [False] * self.n\n",
    "        dis = [-1] * self.n\n",
    "        dis[start] = 0\n",
    "        while True:\n",
    "            x = -1\n",
    "            for i in range(self.n):\n",
    "                if not visited[i] and (x < 0 or dis[i] < dis[x]):\n",
    "                    x = i\n",
    "            if x < 0 or dis[x] == float(\"inf\"):  # 无法从起点到达\n",
    "                return -1\n",
    "            if x == end:\n",
    "                return dis[x]\n",
    "            visited[x] = True\n",
    "            for y, w in enumerate(self.g[x]):\n",
    "                if dis[x] + w < dis[y]:\n",
    "                    dis[y] = dis[x] + w\n",
    "\n",
    "    def floyed(self) -> List[List[int]]:\n",
    "        g = deepcopy(self.g)\n",
    "        n = self.n\n",
    "        for k in range(n):\n",
    "            for i in range(n):\n",
    "                for j in range(n):\n",
    "                    if g[i][j] > g[i][k] + g[k][j]:\n",
    "                        g[i][j] = g[i][k] + g[k][j]\n",
    "        return g"
   ]
  },
  {
   "cell_type": "markdown",
   "source": [
    "#### 邻接表"
   ],
   "metadata": {
    "collapsed": false
   }
  },
  {
   "cell_type": "code",
   "execution_count": null,
   "outputs": [],
   "source": [
    "from collections import defaultdict\n",
    "class Graph:\n",
    "    def __init__(self, n: int, edges: List[List[int]]):\n",
    "        self.dic = defaultdict(list)\n",
    "        self.n = n\n",
    "        for s, e, c in edges:\n",
    "            self.dic[s].append((e, c))\n",
    "\n",
    "\n",
    "    def findshoutcut(self, start: int) -> List[int]:\n",
    "        visited = [False] * self.n\n",
    "        dis = [float(\"inf\")] * self.n\n",
    "        dis[start - 1] = 0\n",
    "        for _ in range(self.n):\n",
    "            x = -1\n",
    "            for y in range(self.n):\n",
    "                # x, y 是节点编号-1\n",
    "                if not visited[y] and (x == -1 or dis[y] < dis[x]):\n",
    "                    x = y\n",
    "            visited[x] = True\n",
    "\n",
    "            for y, c in self.dic[x+1]:\n",
    "                # y是点的编号\n",
    "                dis[y-1] = min(dis[y-1], dis[x] + c)\n",
    "        return dis"
   ],
   "metadata": {
    "collapsed": false
   }
  }
 ],
 "metadata": {
  "kernelspec": {
   "display_name": "Python 3",
   "language": "python",
   "name": "python3"
  },
  "language_info": {
   "codemirror_mode": {
    "name": "ipython",
    "version": 2
   },
   "file_extension": ".py",
   "mimetype": "text/x-python",
   "name": "python",
   "nbconvert_exporter": "python",
   "pygments_lexer": "ipython2",
   "version": "2.7.6"
  }
 },
 "nbformat": 4,
 "nbformat_minor": 0
}
