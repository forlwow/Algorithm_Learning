{
 "cells": [
  {
   "cell_type": "markdown",
   "source": [
    "#### 并查集\n",
    "主要用于处理一些不相交集合的合并问题。\n",
    "一些常见的用途有：\n",
    "+ 求连通子图\n",
    "+ 求最小生成树的Kruskal算法\n",
    "+ 求最近公共祖先等\n",
    "\n",
    "主要操作有：\n",
    "1. 初始化\n",
    "2. 查询\n",
    "3. 合并"
   ],
   "metadata": {
    "collapsed": false
   }
  },
  {
   "cell_type": "markdown",
   "source": [
    "##### 初始化\n",
    "假如有编号1~n的n个元素，用一个数组fa[]来存储每个元素的**父节点**。\n",
    "一开始，先将它们的父节点设为自己"
   ],
   "metadata": {
    "collapsed": false
   }
  },
  {
   "cell_type": "code",
   "execution_count": null,
   "outputs": [],
   "source": [
    "#初始化\n",
    "# 一共有n个元素\n",
    "def init(n: int) -> list:\n",
    "    li = [i for i in range(n+1)]\n",
    "    return li\n",
    "fa = init(8)"
   ],
   "metadata": {
    "collapsed": false
   }
  },
  {
   "cell_type": "markdown",
   "source": [
    "#### 查询\n",
    "找到i的祖先直接返回，未进行路径压缩"
   ],
   "metadata": {
    "collapsed": false
   }
  },
  {
   "cell_type": "code",
   "execution_count": null,
   "outputs": [],
   "source": [
    "def find(i: int) -> int:\n",
    "    if fa[i] == i:  # 递归出口，当到达了祖先位置，祖先的父节点就是自己，直接返回\n",
    "        return i\n",
    "    else:\n",
    "        return find(fa[i])"
   ],
   "metadata": {
    "collapsed": false
   }
  },
  {
   "cell_type": "markdown",
   "source": [
    "#### 合并"
   ],
   "metadata": {
    "collapsed": false
   }
  },
  {
   "cell_type": "code",
   "execution_count": null,
   "outputs": [],
   "source": [
    "def union(i: int, j: int) -> None:\n",
    "    i_fa = find(i)  # 找到i的祖先\n",
    "    j_fa = find(j)  # 找到j的祖先\n",
    "    fa[i_fa] = j_fa # i的祖先指向j的祖先"
   ],
   "metadata": {
    "collapsed": false
   }
  },
  {
   "cell_type": "markdown",
   "source": [
    "#### 查找路径压缩\n"
   ],
   "metadata": {
    "collapsed": false
   }
  },
  {
   "cell_type": "code",
   "execution_count": null,
   "outputs": [],
   "source": [
    "def find(i: int) -> int:\n",
    "    if i == fa[i]:\n",
    "        return i\n",
    "    else:\n",
    "        fa[i] = find(fa[i])\n",
    "        return fa[i] # 返回父节点"
   ],
   "metadata": {
    "collapsed": false
   }
  },
  {
   "cell_type": "markdown",
   "source": [
    "# 亲戚\n",
    "\n",
    "## 题目背景\n",
    "\n",
    "若某个家族人员过于庞大，要判断两个是否是亲戚，确实还很不容易，现在给出某个亲戚关系图，求任意给出的两个人是否具有亲戚关系。\n",
    "\n",
    "## 题目描述\n",
    "\n",
    "规定：$x$ 和 $y$ 是亲戚，$y$ 和 $z$ 是亲戚，那么 $x$ 和 $z$ 也是亲戚。如果 $x$，$y$ 是亲戚，那么 $x$ 的亲戚都是 $y$ 的亲戚，$y$ 的亲戚也都是 $x$ 的亲戚。\n",
    "\n",
    "## 输入格式\n",
    "\n",
    "第一行：三个整数 $n,m,p$，（$n,m,p \\le 5000$），分别表示有 $n$ 个人，$m$ 个亲戚关系，询问 $p$ 对亲戚关系。\n",
    "\n",
    "以下 $m$ 行：每行两个数 $M_i$，$M_j$，$1 \\le M_i,~M_j\\le N$，表示 $M_i$ 和 $M_j$ 具有亲戚关系。\n",
    "\n",
    "接下来 $p$ 行：每行两个数 $P_i,P_j$，询问 $P_i$ 和 $P_j$ 是否具有亲戚关系。\n",
    "\n",
    "## 输出格式\n",
    "\n",
    "$p$ 行，每行一个 `Yes` 或 `No`。表示第 $i$ 个询问的答案为“具有”或“不具有”亲戚关系。\n",
    "\n",
    "## 样例 #1\n",
    "\n",
    "### 样例输入 #1\n",
    "\n",
    "```\n",
    "6 5 3\n",
    "1 2\n",
    "1 5\n",
    "3 4\n",
    "5 2\n",
    "1 3\n",
    "1 4\n",
    "2 3\n",
    "5 6\n",
    "```\n",
    "\n",
    "### 样例输出 #1\n",
    "\n",
    "```\n",
    "Yes\n",
    "Yes\n",
    "No\n",
    "```"
   ],
   "metadata": {
    "collapsed": false
   }
  },
  {
   "cell_type": "code",
   "execution_count": null,
   "outputs": [],
   "source": [
    "n, m, p = map(int, input().split())\n",
    "fa = [i for i in range(n+1)]\n",
    "\n",
    "def find(i):\n",
    "    if fa[i] == i: return i\n",
    "    else:\n",
    "        fa[i] = find(fa[i])\n",
    "        return fa[i]\n",
    "def union(i, j):\n",
    "    a, b = find(i), find(j)\n",
    "    fa[a] = b\n",
    "\n",
    "for _ in range(m):\n",
    "    a, b = map(int, input().split())\n",
    "    union(a, b)\n",
    "\n",
    "for _ in range(p):\n",
    "    a, b = map(int, input().split())\n",
    "    if find(a) == find(b):\n",
    "        print(\"Yes\")\n",
    "    else:\n",
    "        print(\"No\")"
   ],
   "metadata": {
    "collapsed": false
   }
  },
  {
   "cell_type": "markdown",
   "source": [
    "# 村村通\n",
    "\n",
    "## 题目描述\n",
    "\n",
    "某市调查城镇交通状况，得到现有城镇道路统计表。表中列出了每条道路直接连通的城镇。市政府 \"村村通工程\" 的目标是使全市任何两个城镇间都可以实现交通（但不一定有直接的道路相连，只要相互之间可达即可）。请你计算出最少还需要建设多少条道路？\n",
    "\n",
    "## 输入格式\n",
    "\n",
    "输入包含若干组测试数据，每组测试数据的第一行给出两个用空格隔开的正整数，分别是城镇数目 $n$ 和道路数目 $m$ ；随后的 $m$ 行对应 $m$ 条道路，每行给出一对用空格隔开的正整数，分别是该条道路直接相连的两个城镇的编号。简单起见，城镇从 $1$ 到 $n$ 编号。\n",
    "\n",
    "注意：两个城市间可以有多条道路相通。\n",
    "\n",
    "**在输入数据的最后，为一行一个整数 $0$，代表测试数据的结尾。**\n",
    "\n",
    "## 输出格式\n",
    "\n",
    "对于每组数据，对应一行一个整数。表示最少还需要建设的道路数目。\n",
    "\n",
    "## 样例 #1\n",
    "\n",
    "### 样例输入 #1\n",
    "\n",
    "```\n",
    "4 2\n",
    "1 3\n",
    "4 3\n",
    "3 3\n",
    "1 2\n",
    "1 3\n",
    "2 3\n",
    "5 2\n",
    "1 2\n",
    "3 5\n",
    "999 0\n",
    "0\n",
    "```\n",
    "\n",
    "### 样例输出 #1\n",
    "\n",
    "```\n",
    "1\n",
    "0\n",
    "2\n",
    "998\n",
    "```\n",
    "\n",
    "## 提示\n",
    "\n",
    "#### 数据规模与约定\n",
    "\n",
    "对于 $100\\%$ 的数据，保证 $1 \\le n < 1000$ 。"
   ],
   "metadata": {
    "collapsed": false
   }
  },
  {
   "cell_type": "code",
   "execution_count": 1,
   "outputs": [
    {
     "ename": "NameError",
     "evalue": "name 'n' is not defined",
     "output_type": "error",
     "traceback": [
      "\u001B[1;31m---------------------------------------------------------------------------\u001B[0m",
      "\u001B[1;31mNameError\u001B[0m                                 Traceback (most recent call last)",
      "Cell \u001B[1;32mIn [1], line 15\u001B[0m\n\u001B[0;32m     13\u001B[0m raw \u001B[38;5;241m=\u001B[39m \u001B[38;5;28minput\u001B[39m()\n\u001B[0;32m     14\u001B[0m \u001B[38;5;28;01mif\u001B[39;00m raw \u001B[38;5;241m==\u001B[39m  \u001B[38;5;124m\"\u001B[39m\u001B[38;5;124m0\u001B[39m\u001B[38;5;124m\"\u001B[39m: \u001B[38;5;28;01mbreak\u001B[39;00m\n\u001B[1;32m---> 15\u001B[0m fa \u001B[38;5;241m=\u001B[39m [i \u001B[38;5;28;01mfor\u001B[39;00m i \u001B[38;5;129;01min\u001B[39;00m \u001B[38;5;28mrange\u001B[39m(\u001B[43mn\u001B[49m\u001B[38;5;241m+\u001B[39m\u001B[38;5;241m1\u001B[39m)]\n\u001B[0;32m     16\u001B[0m n, m \u001B[38;5;241m=\u001B[39m \u001B[38;5;28mmax\u001B[39m(\u001B[38;5;28mint\u001B[39m, raw\u001B[38;5;241m.\u001B[39msplit())\n\u001B[0;32m     17\u001B[0m \u001B[38;5;28;01mfor\u001B[39;00m _ \u001B[38;5;129;01min\u001B[39;00m \u001B[38;5;28mrange\u001B[39m(m):\n",
      "\u001B[1;31mNameError\u001B[0m: name 'n' is not defined"
     ]
    }
   ],
   "source": [
    "def find(i, fa):\n",
    "    if i == fa[i]:\n",
    "        return i\n",
    "    else:\n",
    "        fa[i] = find(fa[i], fa)\n",
    "        return fa[i]\n",
    "\n",
    "\n",
    "def union(i, j, fa):\n",
    "    a, b = find(i, fa), find(j, fa)\n",
    "    fa[a] = fa[b]\n",
    "\n",
    "ans = []\n",
    "try:\n",
    "    while True:\n",
    "        raw = input()\n",
    "        # if raw == \"0\":\n",
    "        #     break\n",
    "        n, m = map(int, raw.split())\n",
    "        fa = [i for i in range(n+1)]\n",
    "        for _ in range(m):\n",
    "            i, j = map(int, input().split())\n",
    "            union(i, j, fa)\n",
    "        res = 0\n",
    "        root = find(1, fa)\n",
    "        for i in range(2, n+1):\n",
    "            if find(i, fa) != root:\n",
    "                res += 1\n",
    "                union(i, root, fa)\n",
    "        ans.append(res)\n",
    "except:\n",
    "    pass\n",
    "\n",
    "for i in ans:\n",
    "    print(i)\n"
   ],
   "metadata": {
    "collapsed": false
   }
  },
  {
   "cell_type": "markdown",
   "source": [
    "# [Color the Axis](https://www.luogu.com.cn/problem/P1840)\n",
    "\n",
    "## 题目描述\n",
    "\n",
    "在一条数轴上有 $n$ 个点，分别是 $1,2,\\ldots,n$。一开始所有的点都被染成黑色。接着我们进行 $m$ 次操作，第 $i$ 次操作将 $[l_i,r_i]$ 这些点染成白色。请输出每个操作执行后剩余黑色点的个数。\n",
    "\n",
    "## 输入格式\n",
    "\n",
    "输入一行为 $n$ 和 $m$。下面 $m$ 行每行两个数 $l_i$，$r_i$。\n",
    "\n",
    "## 输出格式\n",
    "\n",
    "输出 $m$ 行，为每次操作后剩余黑色点的个数。\n",
    "\n",
    "## 样例 #1\n",
    "\n",
    "### 样例输入 #1\n",
    "\n",
    "```\n",
    "10 3   \n",
    "3 3   \n",
    "5 7   \n",
    "2 8\n",
    "```\n",
    "\n",
    "### 样例输出 #1\n",
    "\n",
    "```\n",
    "9\n",
    "6\n",
    "3\n",
    "```\n",
    "\n",
    "## 提示\n",
    "\n",
    "- 对于 $30\\%$ 的数据，有 $1\\le n\\le2000$，$1\\le m\\le2000$；\n",
    "- 对于 $100\\%$ 的数据，有 $1\\le l_i\\le r_i\\le n\\le 2\\times 10^5$，$1\\le m\\le 2\\times10^5$。"
   ],
   "metadata": {
    "collapsed": false
   }
  },
  {
   "cell_type": "code",
   "execution_count": null,
   "outputs": [],
   "source": [
    "fa = []\n",
    "def find(i):\n",
    "    if fa[i] == i:\n",
    "        return i\n",
    "    fa[i] = find(fa[i])\n",
    "    return fa[i]\n",
    "\n",
    "def union(i, j):\n",
    "    a, b = find(i), find(j)\n",
    "    fa[a] = fa[b]\n",
    "\n",
    "n, m = map(int, input().split())\n",
    "fa = [i for i in range(n+1)]\n",
    "res = n\n",
    "for _ in range(m):\n",
    "    a, b = map(int, input().split())\n",
    "    for i in range(a, b+1):\n",
    "        if find(i):\n",
    "            union(i, 0)\n",
    "            res -= 1\n",
    "\n",
    "    print(res)"
   ],
   "metadata": {
    "collapsed": false
   }
  }
 ],
 "metadata": {
  "kernelspec": {
   "display_name": "Python 3",
   "language": "python",
   "name": "python3"
  },
  "language_info": {
   "codemirror_mode": {
    "name": "ipython",
    "version": 2
   },
   "file_extension": ".py",
   "mimetype": "text/x-python",
   "name": "python",
   "nbconvert_exporter": "python",
   "pygments_lexer": "ipython2",
   "version": "2.7.6"
  }
 },
 "nbformat": 4,
 "nbformat_minor": 0
}
