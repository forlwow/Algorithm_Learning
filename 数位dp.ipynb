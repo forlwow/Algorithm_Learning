{
 "cells": [
  {
   "attachments": {},
   "cell_type": "markdown",
   "metadata": {},
   "source": [
    "### 模板"
   ]
  },
  {
   "attachments": {},
   "cell_type": "markdown",
   "metadata": {},
   "source": [
    "**例 找出所有数位均不同的数字 T1012**"
   ]
  },
  {
   "cell_type": "code",
   "execution_count": 1,
   "metadata": {},
   "outputs": [
    {
     "data": {
      "text/plain": "12"
     },
     "execution_count": 1,
     "metadata": {},
     "output_type": "execute_result"
    }
   ],
   "source": [
    "from functools import cache\n",
    "\n",
    "@cache\n",
    "def num_dp(s: str, i: int, mask: int, is_limit: bool, is_num: bool) -> int:\n",
    "    \"\"\"\n",
    "    :param s: 目标数字(字符串形式输入)\n",
    "    :param i:  当前遍历到第几位\n",
    "    :param mask:  可选 表示前面选过的数字集合，换句话说，第 i 位要选的数字不能在 mask中。\n",
    "    :param is_limit:  可选 表示当前是否受到了 n 的约束(注意要构造的数字不能超过n)。\n",
    "                           若为真，则第 i 位填入的数字至多为 s[i],否则可以是 9。\n",
    "    :param is_num: 可选 表示 i 前面的数位是否填了数字。\n",
    "                        若为假，则当前位可以跳过（不填数字），或者要填入的数字至少为 1;\n",
    "                        若为真,则要填入的数字可以从 0 开始。\n",
    "    :return:  总数\n",
    "    \"\"\"\n",
    "    # i 越界 表示遍历完毕\n",
    "    if i == len(s):\n",
    "        # 如果 is_num 为真，则数字合法(全部填了数字)返回 1；否则返回 0\n",
    "        return int(is_num)\n",
    "    res = 0     # 结果初始化为 0\n",
    "    # is_num 为假 可以跳过当前数位\n",
    "    if not is_num:\n",
    "        # res 加上跳过当前数位的结果\n",
    "        res += num_dp(s, i + 1, mask, False, False)\n",
    "    low = 0 if is_num else 1    # 当前填的数字的下界 如果前面为填过数字则为 1；否则为 0 (因为没有前导 0 )\n",
    "    high = int(s[i]) if is_limit else 9    # 当前填的数字的上界 如果被 s 限制则为 s[i]；否则为 9\n",
    "    for j in range(low, high + 1):\n",
    "        if (mask >> j & 1) == 0:    # j 不在 mask 中\n",
    "            # mask 要加上当前的数字\n",
    "            # 当当前位被限制且 j 到达上界后才将 is_limit 设为 True\n",
    "            # 由于已经填了数字 is_num 为 True\n",
    "            res += num_dp(s, i + 1, mask | (1 << j), is_limit and j == high, True)\n",
    "    return res\n",
    "\n",
    "# 进入\n",
    "# i, mask 初始化为 0\n",
    "# is_limit 默认为 True(因为首位不能比 s 的首位大)\n",
    "# is_num 默认为 False(因为一开始没填数字)\n",
    "num_dp(str(13), 0, 0, True, False)"
   ]
  },
  {
   "cell_type": "markdown",
   "source": [
    "**例 数字1的个数 T233**"
   ],
   "metadata": {
    "collapsed": false
   }
  },
  {
   "cell_type": "code",
   "execution_count": 1,
   "metadata": {},
   "outputs": [
    {
     "name": "stdout",
     "output_type": "stream",
     "text": [
      "6\n"
     ]
    }
   ],
   "source": [
    "from functools import cache\n",
    "def countDigitOne(n: int) -> int:\n",
    "    @cache\n",
    "    def num_dp(s, i, is_limit, cur_count):\n",
    "        if i == len(s):\n",
    "            return cur_count\n",
    "        low = 0\n",
    "        high = int(s[i]) if is_limit else 9\n",
    "        res = 0\n",
    "        for j in range(low, high + 1):\n",
    "            res += num_dp(s, i + 1, is_limit and j == high, cur_count + (j == 1))\n",
    "        return res\n",
    "\n",
    "    return num_dp(str(n), 0, True, 0)\n",
    "print(countDigitOne(13))"
   ]
  },
  {
   "cell_type": "markdown",
   "source": [
    "**例 二进制中不含连续1的数 T600**"
   ],
   "metadata": {
    "collapsed": false
   }
  },
  {
   "cell_type": "code",
   "execution_count": 5,
   "outputs": [
    {
     "data": {
      "text/plain": "5"
     },
     "execution_count": 5,
     "metadata": {},
     "output_type": "execute_result"
    }
   ],
   "source": [
    "from functools import cache\n",
    "\n",
    "def findIntegers(n: int) -> int:\n",
    "    @cache\n",
    "    def num_dp(s, i, is_limit, is_one) -> int:\n",
    "        if i == len(s):\n",
    "            return 1\n",
    "        res = 0\n",
    "        high = int(s[i]) if is_limit else 1\n",
    "        for j in range(high + 1):\n",
    "            if is_one and j == 1:\n",
    "                continue\n",
    "            if j:\n",
    "                res += num_dp(s, i + 1, is_limit and j == high, True)\n",
    "            else:\n",
    "                res += num_dp(s, i + 1, is_limit and j == high, False)\n",
    "        return res\n",
    "\n",
    "    return num_dp(bin(n)[2:], 0, True, False)\n",
    "\n",
    "findIntegers(5)"
   ],
   "metadata": {
    "collapsed": false
   }
  },
  {
   "cell_type": "markdown",
   "source": [
    "**例 最大为n的数字组合 T902**"
   ],
   "metadata": {
    "collapsed": false
   }
  },
  {
   "cell_type": "code",
   "execution_count": 2,
   "outputs": [
    {
     "name": "stdout",
     "output_type": "stream",
     "text": [
      "0\n"
     ]
    }
   ],
   "source": [
    "from functools import cache\n",
    "\n",
    "def atMostNGivenDigitSet(digits: list[str], n: int) -> int:\n",
    "    @cache\n",
    "    def num_dp(s, i, is_limit, is_num):\n",
    "        if i == len(s):\n",
    "            return int(is_num)\n",
    "        res = 0\n",
    "        if not is_num:\n",
    "            res += num_dp(s, i + 1, False, False)\n",
    "        low = 0 if is_num else 1\n",
    "        high = int(s[i]) if is_limit else 9\n",
    "        for j in digits:\n",
    "            j = int(j)\n",
    "            if low <= j <= high:\n",
    "                res += num_dp(s, i + 1, is_limit and j == high, True)\n",
    "\n",
    "        return res\n",
    "    return num_dp(str(n), 0, True, False)\n",
    "\n",
    "print(atMostNGivenDigitSet([\"1\",\"3\",\"5\",\"7\"], 100))"
   ],
   "metadata": {
    "collapsed": false
   }
  }
 ],
 "metadata": {
  "kernelspec": {
   "display_name": "Python 3",
   "language": "python",
   "name": "python3"
  },
  "language_info": {
   "codemirror_mode": {
    "name": "ipython",
    "version": 3
   },
   "file_extension": ".py",
   "mimetype": "text/x-python",
   "name": "python",
   "nbconvert_exporter": "python",
   "pygments_lexer": "ipython3",
   "version": "3.9.6"
  },
  "orig_nbformat": 4
 },
 "nbformat": 4,
 "nbformat_minor": 2
}
