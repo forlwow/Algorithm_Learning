{
 "cells": [
  {
   "attachments": {},
   "cell_type": "markdown",
   "metadata": {},
   "source": [
    "### 判断一个数是否为素数"
   ]
  },
  {
   "cell_type": "code",
   "execution_count": 37,
   "metadata": {},
   "outputs": [],
   "source": [
    "def fun(n: int) -> bool:\n",
    "    # 小于sqrt(n)\n",
    "    i = 0\n",
    "    while i * i < n:\n",
    "        if n % i:\n",
    "            return True\n",
    "        i += 1"
   ]
  },
  {
   "attachments": {},
   "cell_type": "markdown",
   "metadata": {},
   "source": [
    "### 筛选一段区间内的素数"
   ]
  },
  {
   "attachments": {},
   "cell_type": "markdown",
   "metadata": {},
   "source": [
    "#### 埃式筛法$O(nlog(n))$"
   ]
  },
  {
   "cell_type": "code",
   "execution_count": 38,
   "metadata": {},
   "outputs": [],
   "source": [
    "from itertools import compress\n",
    "def ai(n: int):\n",
    "    n += 1\n",
    "    isprime = [True for _ in range(n)]\n",
    "    res = []\n",
    "    for i in range(2, n):\n",
    "        if not isprime[i]: # 非素数\n",
    "            continue\n",
    "        res.append(i)\n",
    "        j = i * 2\n",
    "        while j < n:\n",
    "            isprime[j] = False\n",
    "            j += i\n",
    "    return res"
   ]
  },
  {
   "cell_type": "code",
   "execution_count": 53,
   "metadata": {},
   "outputs": [],
   "source": [
    "a = ai(1000000)"
   ]
  },
  {
   "attachments": {},
   "cell_type": "markdown",
   "metadata": {},
   "source": [
    "#### 欧拉筛法$O(n)$"
   ]
  },
  {
   "cell_type": "code",
   "execution_count": 59,
   "metadata": {},
   "outputs": [],
   "source": [
    "def oulaprime(n):\n",
    "    n += 1\n",
    "    isprime = [True for _ in range(n)]\n",
    "    prime = []\n",
    "    for i in range(2, n):\n",
    "        if isprime[i]:\n",
    "            prime.append(i)\n",
    "        j = 0\n",
    "        while j < len(prime) and (tmp:= prime[j] * i) < n:\n",
    "            isprime[tmp] = False\n",
    "            if (i % prime[j]) == 0:\n",
    "                break\n",
    "            j += 1\n",
    "    return prime"
   ]
  },
  {
   "cell_type": "code",
   "execution_count": 60,
   "metadata": {},
   "outputs": [],
   "source": [
    "b = oulaprime(1000000)"
   ]
  },
  {
   "cell_type": "code",
   "execution_count": 55,
   "metadata": {},
   "outputs": [
    {
     "data": {
      "text/plain": [
       "True"
      ]
     },
     "execution_count": 55,
     "metadata": {},
     "output_type": "execute_result"
    }
   ],
   "source": [
    "a == b"
   ]
  }
 ],
 "metadata": {
  "kernelspec": {
   "display_name": "Python 3",
   "language": "python",
   "name": "python3"
  },
  "language_info": {
   "codemirror_mode": {
    "name": "ipython",
    "version": 3
   },
   "file_extension": ".py",
   "mimetype": "text/x-python",
   "name": "python",
   "nbconvert_exporter": "python",
   "pygments_lexer": "ipython3",
   "version": "3.9.13"
  },
  "orig_nbformat": 4
 },
 "nbformat": 4,
 "nbformat_minor": 2
}
