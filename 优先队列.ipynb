{
 "cells": [
  {
   "cell_type": "code",
   "execution_count": null,
   "metadata": {
    "collapsed": true
   },
   "outputs": [],
   "source": [
    "# Python实现\n",
    "import heapq\n",
    "from typing import Union\n",
    "\n",
    "class PriorityQueue:\n",
    "    def __init__(self, que: list=None, flag: Union[0, 1]=0):\n",
    "        self.__queue = []\n",
    "        self.sign = flag\n",
    "\n",
    "    def push(self, priority, items):\n",
    "        heapq.heappush(self.__queue, (priority*self.sign, items))\n",
    "\n",
    "    def pop(self):\n",
    "        return heapq.heappop(self.__queue)[-1]\n",
    "\n"
   ]
  }
 ],
 "metadata": {
  "kernelspec": {
   "display_name": "Python 3",
   "language": "python",
   "name": "python3"
  },
  "language_info": {
   "codemirror_mode": {
    "name": "ipython",
    "version": 2
   },
   "file_extension": ".py",
   "mimetype": "text/x-python",
   "name": "python",
   "nbconvert_exporter": "python",
   "pygments_lexer": "ipython2",
   "version": "2.7.6"
  }
 },
 "nbformat": 4,
 "nbformat_minor": 0
}
