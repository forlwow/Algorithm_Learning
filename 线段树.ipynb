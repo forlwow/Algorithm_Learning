{
 "cells": [
  {
   "cell_type": "markdown",
   "metadata": {
    "collapsed": false
   },
   "source": [
    "#### 排序不等式\n",
    "设有两数列$a_1, a_2, ..., a_n$和$b_1, b_2, ..., b_n$，满足$a_1 \\leq a_2 \\leq ... \\leq a_n$, $b_1 \\leq b_2 \\leq ... \\leq b_n$，$c_1, c_2, ..., c_n$是$b_1, b_2, ..., b_n$的乱序排列，\n",
    "则有$\\sum\\limits_{i=1}^{n}a_ib_i  \\geq \\sum\\limits_{i=1}^{n}a_ic_i \\geq \\sum\\limits_{i=1}^{n}a_ib_{n+1-i}$\n",
    "例：\n",
    "若$a_1 \\leq a_2$、$b_1 \\leq b_2$，\n",
    "则$a_1b_1 \\leq a_2b_2$"
   ]
  },
  {
   "cell_type": "markdown",
   "metadata": {
    "collapsed": false
   },
   "source": [
    "**例 道路的最大重要性 T2285**"
   ]
  },
  {
   "cell_type": "code",
   "execution_count": 2,
   "metadata": {
    "collapsed": false
   },
   "outputs": [
    {
     "name": "stdout",
     "output_type": "stream",
     "text": [
      "43\n"
     ]
    }
   ],
   "source": [
    "def maximumImportance(n: int, roads: list[list[int]]) -> int:\n",
    "    degree = [0 for _ in range(n)]\n",
    "    for i, j in roads:\n",
    "        degree[i] += 1\n",
    "        degree[j] += 1\n",
    "    res = 0\n",
    "    for i, j in enumerate(sorted(degree), 1):\n",
    "        res += i * j\n",
    "    return res\n",
    "\n",
    "print(maximumImportance(5, [[0,1],[1,2],[2,3],[0,2],[1,3],[2,4]]))"
   ]
  },
  {
   "cell_type": "markdown",
   "metadata": {
    "collapsed": false
   },
   "source": [
    "#### 线段树"
   ]
  },
  {
   "cell_type": "code",
   "execution_count": null,
   "metadata": {
    "collapsed": false
   },
   "outputs": [],
   "source": [
    "# 基本形态\n",
    "class Tree:\n",
    "    def __init__(self, n, m):\n",
    "        self.sum = [0] * (4 * n)\n",
    "\n",
    "    # 给 idx 下标增加 val\n",
    "    # self.add(1, 1, n, idx, val)\n",
    "    def add(self, o: int, l: int, r: int, idx: int, val: int):\n",
    "        if l == r:\n",
    "            self.sum[l] += val\n",
    "            return\n",
    "        mid = (l + r) // 2\n",
    "        if idx <= mid:\n",
    "            self.add(o * 2, l, mid, idx, val)\n",
    "        else:\n",
    "            self.add(o * 2 + 1, mid + 1, r, idx, val)\n",
    "        self.sum[o] = self.sum[o * 2] + self.sum[o * 2 + 1]\n",
    "\n",
    "    # 返回 [L, R] 范围内的元素和\n",
    "    # self.query_sum(1, 1, n, L, R)\n",
    "    def query_sum(self, o: int, l: int, r: int, L: int, R: int):\n",
    "        if L <= l and r <= R:\n",
    "            return self.sum[o]\n",
    "        sum = 0\n",
    "        mid = (l + r) // 2\n",
    "        if L <= mid:\n",
    "            sum += self.query_sum(o * 2, l, mid, L, R)\n",
    "        if R > mid:\n",
    "            sum += self.query_sum(o * 2 + 1, mid + 1, r, L, R)\n",
    "        return sum\n"
   ]
  },
  {
   "cell_type": "markdown",
   "metadata": {
    "collapsed": false
   },
   "source": [
    "### Lazy线段树"
   ]
  },
  {
   "cell_type": "code",
   "execution_count": 4,
   "metadata": {
    "collapsed": false
   },
   "outputs": [],
   "source": [
    "class TreeNode:\n",
    "    \"\"\"\n",
    "    lazy: 维护每个区间需要更新的值\n",
    "          如果这个值 = 0，表示不需要更新\n",
    "          如果这个值！=0，\n",
    "            表示需要更新，\n",
    "            表示更新停在这里，不再递归\n",
    "            如果又来了一个更新，破坏了lazy，则继续更新\n",
    "    \"\"\"\n",
    "    def __init__(self):\n",
    "        self.left = -1\n",
    "        self.right = -1\n",
    "        self.lazy = 0\n",
    "        self.sum_num = 0\n",
    "\n",
    "    def __str__(self):\n",
    "        return '[%s,%s,%s,%s]' % (self.left, self.right, self.sum_num, self.lazy)\n",
    "    \n",
    "    def __repr__(self) -> str:\n",
    "        return '[%s,%s,%s,%s]' % (self.left, self.right, self.sum_num, self.lazy)\n",
    "\n",
    "class SegmentTree:\n",
    "    def __init__(self, n: int):\n",
    "        self.n = n\n",
    "        self.max_size = 2 << n.bit_length()  # 空间优化\n",
    "        self.tree = [TreeNode() for _ in range(self.max_size)]\n",
    "\n",
    "        self._build(1, 1, n)\n",
    "\n",
    "    # 向上维护数组：在递归结束向上返回时，将左右孩子的相加到父节点\n",
    "    def _maintain(self, index: int) -> None:\n",
    "        self.tree[index].sum_num = self.tree[index*2].sum_num + self.tree[index*2+1].sum_num\n",
    "\n",
    "    # 把lazy的内容向下传递一层        \n",
    "    def _push_lazy(self, index: int):  \n",
    "        if self.tree[index].lazy != 0:\n",
    "            # 先将其左右孩子的lazy加上自己的lazy，表示lazy的传递\n",
    "            self.tree[index * 2].lazy += self.tree[index].lazy\n",
    "            self.tree[index * 2 + 1].lazy += self.tree[index].lazy\n",
    "            # 更新子树的值\n",
    "            self.tree[index*2].sum_num = (self.tree[index*2].right - self.tree[index*2].left + 1) * self.tree[index].lazy\n",
    "            self.tree[index*2+1].sum_num = (self.tree[index*2+1].right - self.tree[index*2+1].left + 1) * self.tree[index].lazy\n",
    "            # 再清除自己的lazy\n",
    "            self.tree[index].lazy = 0\n",
    "\n",
    "    def _build(self, index: int, l: int, r: int) -> None:\n",
    "        \"\"\"\n",
    "        :param index: 节点编号\n",
    "        :param l: 左端点的位置\n",
    "        :param r: 右端点的位置\n",
    "        l 与 r 为闭区间\n",
    "        \"\"\"\n",
    "        # TODO: 维护内容\n",
    "        self.tree[index].left = l\n",
    "        self.tree[index].right = r\n",
    "\n",
    "        if l == r: # 到达底部\n",
    "            # TODO: 底部操作\n",
    "            return\n",
    "        # 递归\n",
    "        mid = (l + r) // 2\n",
    "        self._build(index * 2, l, mid)\n",
    "        self._build(index * 2 + 1, mid + 1, r)\n",
    "        self._maintain(index)\n",
    "\n",
    "    def _update(self, index: int, l: int, r: int, ql: int, qr: int, val: int) -> None:\n",
    "        \"\"\"\n",
    "        更新 [ql, qr] 内容\n",
    "        :param index:\n",
    "        :param l:\n",
    "        :param r:\n",
    "        :param ql: 目标区间左端点\n",
    "        :param qr: 目标区间右端点\n",
    "        :param val: 需要加上的数\n",
    "        \"\"\"\n",
    "        # 当前区间已经被目标区间包含 不用递归\n",
    "        if ql <= l and r <= qr:\n",
    "            # 不再继续递归\n",
    "            # 更新和（长度 * 增加的值）\n",
    "            self.tree[index].sum_num += (r - l + 1) * val\n",
    "            # 更新lazy标记 直接增加val\n",
    "            self.tree[index].lazy += val\n",
    "            return\n",
    "\n",
    "        # 需要继续递归，则把lazy的内容传下去\n",
    "        self._push_lazy(index)\n",
    "\n",
    "        # 递归操作\n",
    "        mid = (l + r) // 2\n",
    "        if mid >= ql:  # 目标区间与当前区间的左子树有交集 递归左子树\n",
    "            self._update(index * 2, l, mid, ql, qr, val)\n",
    "        if mid + 1 <= qr:\n",
    "            self._update(index * 2 + 1, mid + 1, r, ql, qr, val)\n",
    "\n",
    "        # TODO: 维护\n",
    "        self._maintain(index)\n",
    "\n",
    "    def update(self, val: int, l: int, r: int = None) -> None:\n",
    "        self._update(1, 1, self.n, l, l if r is None else r, val)\n",
    "        \n",
    "    def _query(self, index: int, l: int, r: int, ql: int, qr: int) -> None:\n",
    "        # 当前递归的区间已经被包含在目标区间中\n",
    "        if ql <= l and r <= qr:\n",
    "            return self.tree[index].sum_num\n",
    "        \n",
    "        # 需要继续递归，则把lazy的内容传下去\n",
    "        self._push_lazy(index)\n",
    "\n",
    "        mid = (l + r) // 2\n",
    "        res = 0\n",
    "        if ql <= mid:  # 目标区间与左子树有交点\n",
    "            res += self._query(index*2, l, mid, ql, qr)\n",
    "        if mid+1 <= qr:\n",
    "            res += self._query(index*2+1, mid+1, r, ql, qr)\n",
    "        return res\n",
    "\n",
    "    def query(self, l, r = None):\n",
    "        return self._query(1, 1, self.n, l, l if r is None else r)\n",
    "\n"
   ]
  },
  {
   "cell_type": "code",
   "execution_count": 5,
   "metadata": {},
   "outputs": [
    {
     "name": "stdout",
     "output_type": "stream",
     "text": [
      "6\n",
      "1\n"
     ]
    }
   ],
   "source": [
    "from pprint import pprint as print\n",
    "t = SegmentTree(4)\n",
    "t.update(2, 1, 3)\n",
    "print(t.query(1, 3))\n",
    "\n",
    "t.update(-1, 3)\n",
    "print(t.query(3))"
   ]
  },
  {
   "cell_type": "markdown",
   "source": [
    "# 例"
   ],
   "metadata": {
    "collapsed": false
   }
  },
  {
   "cell_type": "markdown",
   "source": [
    "# [[CRCI2007-2008] PLATFORME 平板](https://www.luogu.com.cn/problem/P2003)\n",
    "\n",
    "## 题目描述\n",
    "\n",
    "为了进行一种游戏，现决定搭造一些平板，而各个平板的地址已经选定。基于最普遍的认识，没有任何支持物的平板不可能漂浮在空中。说的更精确些，任意一平板的两端必需有支柱或者它在另一块平板上。\n",
    "\n",
    "你会得到各个平板在坐标系中的坐标（如左下图）。每一块平板的坐标都是由它的高度（与地板间的垂直距离）和它的水平方位（开始和结束）决定的。每个支柱都距它支撑的平板的边缘半个单位（如图）。\n",
    "\n",
    "算出支持所有平板的支柱的总长度。\n",
    "\n",
    " ![](https://cdn.luogu.com.cn/upload/pic/994.png)\n",
    "\n",
    "## 输入格式\n",
    "\n",
    "第一行包括1个整数N，1 ≤ N ≤ 100，即平板的总数。\n",
    "\n",
    "接下来的N行每行都是一块平板的坐标，是相应的Y，X1和 X2。即高度和水平的边缘坐标。所有的数都是不大于10000的正整数且满足X2 > X1+1（也可这样理解，每一块平板的长度至少为2）。\n",
    "\n",
    "输入保证任意两块平板间没有重叠部分。\n",
    "\n",
    "## 输出格式\n",
    "\n",
    "要撑起所有平板所需的支柱的总长度。\n",
    "\n",
    "## 样例 #1\n",
    "\n",
    "### 样例输入 #1\n",
    "\n",
    "```\n",
    "3\n",
    "1 5 10\n",
    "3 1 5\n",
    "5 3 7\n",
    "```\n",
    "\n",
    "### 样例输出 #1\n",
    "\n",
    "```\n",
    "14\n",
    "```"
   ],
   "metadata": {
    "collapsed": false
   }
  },
  {
   "cell_type": "markdown",
   "source": [
    "## 解题思路\n",
    "可以直接将lazy线段树复制过来\n",
    "为简化数据结构使用两个数组作为节点\n",
    "由于柱子偏移了0.5个单位，简单起见直接将$x \\times 2$\n",
    "这样询问时直接询问$x_1 + 1$和$x_2 - 1$即可，同时数组也要开两倍大小"
   ],
   "metadata": {
    "collapsed": false
   }
  },
  {
   "cell_type": "code",
   "execution_count": 3,
   "outputs": [
    {
     "ename": "ValueError",
     "evalue": "invalid literal for int() with base 10: ''",
     "output_type": "error",
     "traceback": [
      "\u001B[1;31m---------------------------------------------------------------------------\u001B[0m",
      "\u001B[1;31mValueError\u001B[0m                                Traceback (most recent call last)",
      "Cell \u001B[1;32mIn [3], line 45\u001B[0m\n\u001B[0;32m     41\u001B[0m             res \u001B[38;5;241m=\u001B[39m \u001B[38;5;28mself\u001B[39m\u001B[38;5;241m.\u001B[39mupdate(index\u001B[38;5;241m*\u001B[39m\u001B[38;5;241m2\u001B[39m\u001B[38;5;241m+\u001B[39m\u001B[38;5;241m1\u001B[39m, ql, qr, mid\u001B[38;5;241m+\u001B[39m\u001B[38;5;241m1\u001B[39m, r)\n\u001B[0;32m     42\u001B[0m         \u001B[38;5;28;01mreturn\u001B[39;00m res\n\u001B[1;32m---> 45\u001B[0m n \u001B[38;5;241m=\u001B[39m \u001B[38;5;28;43mint\u001B[39;49m\u001B[43m(\u001B[49m\u001B[38;5;28;43minput\u001B[39;49m\u001B[43m(\u001B[49m\u001B[43m)\u001B[49m\u001B[43m)\u001B[49m\n\u001B[0;32m     46\u001B[0m board \u001B[38;5;241m=\u001B[39m []\n\u001B[0;32m     47\u001B[0m \u001B[38;5;28;01mfor\u001B[39;00m _ \u001B[38;5;129;01min\u001B[39;00m \u001B[38;5;28mrange\u001B[39m(n):\n",
      "\u001B[1;31mValueError\u001B[0m: invalid literal for int() with base 10: ''"
     ]
    }
   ],
   "source": [
    "class SegmentTree:\n",
    "    def __init__(self, n):\n",
    "        self.n = n\n",
    "        self.tree = [0] * (2 << n.bit_length())\n",
    "        self.lazy = [0] * (2 << n.bit_length())\n",
    "\n",
    "    def update(self, index, ql, qr, val, l, r):\n",
    "        if ql <= l and r <= qr:\n",
    "            self.tree[index] = val\n",
    "            self.lazy[index] = val\n",
    "            return\n",
    "        if self.lazy[index] != 0:\n",
    "            lazy = self.lazy[index]\n",
    "            self.lazy[index*2] = lazy\n",
    "            self.lazy[index*2+1] = lazy\n",
    "            self.tree[index*2] = lazy\n",
    "            self.tree[index*2+1] = lazy\n",
    "            self.lazy[index] = 0\n",
    "        mid = (l + r) // 2\n",
    "        if ql <= mid:\n",
    "            self.update(index*2, ql, qr, val, l, mid)\n",
    "        if mid + 1<= qr:\n",
    "            self.update(index*2+1, ql, qr, val, mid+1, r)\n",
    "        self.tree[index] = self.tree[index*2]\n",
    "\n",
    "    def query(self, index, ql, qr, l, r):\n",
    "        if ql <= l and r <= qr:\n",
    "            return self.tree[index]\n",
    "        if self.lazy[index] != 0:\n",
    "            lazy = self.lazy[index]\n",
    "            self.lazy[index*2] = lazy\n",
    "            self.lazy[index*2+1] = lazy\n",
    "            self.tree[index*2] = lazy\n",
    "            self.tree[index*2+1] = lazy\n",
    "            self.lazy[index] = 0\n",
    "        mid = (l + r) // 2\n",
    "        res = 0\n",
    "        if ql <= mid:\n",
    "            res = self.query(index*2, ql, qr, l, mid)\n",
    "        if mid + 1<= qr:\n",
    "            res = self.query(index*2+1, ql, qr, mid+1, r)\n",
    "        return res\n",
    "\n",
    "\n",
    "n = int(input())\n",
    "board = []\n",
    "for _ in range(n):\n",
    "    board.append(tuple(map(int, input().split())))\n",
    "board.sort(key=lambda x: x[0])\n",
    "\n",
    "tree = SegmentTree(20000)\n",
    "\n",
    "res = 0\n",
    "for y, x1, x2 in board:\n",
    "    res += y - tree.query(1, x1*2+1, x1*2+1, 1, tree.n)\n",
    "    res += y - tree.query(1, x2*2-1, x2*2-1, 1, tree.n)\n",
    "    tree.update(1, x1*2, x2*2, y, 1, tree.n)\n",
    "\n",
    "print(res)\n"
   ],
   "metadata": {
    "collapsed": false
   }
  }
 ],
 "metadata": {
  "kernelspec": {
   "display_name": "Python 3",
   "language": "python",
   "name": "python3"
  },
  "language_info": {
   "codemirror_mode": {
    "name": "ipython",
    "version": 3
   },
   "file_extension": ".py",
   "mimetype": "text/x-python",
   "name": "python",
   "nbconvert_exporter": "python",
   "pygments_lexer": "ipython3",
   "version": "3.9.13"
  }
 },
 "nbformat": 4,
 "nbformat_minor": 0
}
