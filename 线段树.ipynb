{
 "cells": [
  {
   "cell_type": "markdown",
   "source": [
    "#### 排序不等式\n",
    "设有两数列$a_1, a_2, ..., a_n$和$b_1, b_2, ..., b_n$，满足$a_1 \\leq a_2 \\leq ... \\leq a_n$, $b_1 \\leq b_2 \\leq ... \\leq b_n$，$c_1, c_2, ..., c_n$是$b_1, b_2, ..., b_n$的乱序排列，\n",
    "则有$\\sum\\limits_{i=1}^{n}a_ib_i  \\geq \\sum\\limits_{i=1}^{n}a_ic_i \\geq \\sum\\limits_{i=1}^{n}a_ib_{n+1-i}$\n",
    "例：\n",
    "若$a_1 \\leq a_2$、$b_1 \\leq b_2$，\n",
    "则$a_1b_1 \\leq a_2b_2$"
   ],
   "metadata": {
    "collapsed": false
   }
  },
  {
   "cell_type": "markdown",
   "source": [
    "**例 道路的最大重要性 T2285**"
   ],
   "metadata": {
    "collapsed": false
   }
  },
  {
   "cell_type": "code",
   "execution_count": 2,
   "outputs": [
    {
     "name": "stdout",
     "output_type": "stream",
     "text": [
      "43\n"
     ]
    }
   ],
   "source": [
    "def maximumImportance(n: int, roads: list[list[int]]) -> int:\n",
    "    degree = [0 for _ in range(n)]\n",
    "    for i, j in roads:\n",
    "        degree[i] += 1\n",
    "        degree[j] += 1\n",
    "    res = 0\n",
    "    for i, j in enumerate(sorted(degree), 1):\n",
    "        res += i * j\n",
    "    return res\n",
    "\n",
    "print(maximumImportance(5, [[0,1],[1,2],[2,3],[0,2],[1,3],[2,4]]))"
   ],
   "metadata": {
    "collapsed": false
   }
  },
  {
   "cell_type": "markdown",
   "source": [
    "#### 线段树"
   ],
   "metadata": {
    "collapsed": false
   }
  },
  {
   "cell_type": "code",
   "execution_count": null,
   "outputs": [],
   "source": [
    "class Tree:\n",
    "    def __init__(self, n, m):\n",
    "        self.sum = [0] * (4 * n)\n",
    "\n",
    "    # 给 idx 下标增加 val\n",
    "    # self.add(1, 1, n, idx, val)\n",
    "    def add(self, o: int, l: int, r: int, idx: int, val: int):\n",
    "        if l == r:\n",
    "            self.sum[l] += val\n",
    "            return\n",
    "        mid = (l + r) // 2\n",
    "        if idx <= mid:\n",
    "            self.add(o * 2, l, mid, idx, val)\n",
    "        else:\n",
    "            self.add(o * 2 + 1, mid + 1, r, idx, val)\n",
    "        self.sum[o] = self.sum[o * 2] + self.sum[o * 2 + 1]\n",
    "\n",
    "    # 返回 [L, R] 范围内的元素和\n",
    "    # self.query_sum(1, 1, n, L, R)\n",
    "    def query_sum(self, o: int, l: int, r: int, L: int, R: int):\n",
    "        if L <= l and r <= R:\n",
    "            return self.sum[o]\n",
    "        sum = 0\n",
    "        mid = (l + r) // 2\n",
    "        if L <= mid:\n",
    "            sum += self.query_sum(o * 2, l, mid, L, R)\n",
    "        if R > mid:\n",
    "            sum += self.query_sum(o * 2 + 1, mid + 1, r, L, R)\n",
    "        return sum\n"
   ],
   "metadata": {
    "collapsed": false
   }
  }
 ],
 "metadata": {
  "kernelspec": {
   "display_name": "Python 3",
   "language": "python",
   "name": "python3"
  },
  "language_info": {
   "codemirror_mode": {
    "name": "ipython",
    "version": 2
   },
   "file_extension": ".py",
   "mimetype": "text/x-python",
   "name": "python",
   "nbconvert_exporter": "python",
   "pygments_lexer": "ipython2",
   "version": "2.7.6"
  }
 },
 "nbformat": 4,
 "nbformat_minor": 0
}
