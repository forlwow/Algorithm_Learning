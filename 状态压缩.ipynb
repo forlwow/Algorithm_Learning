{
 "cells": [
  {
   "cell_type": "markdown",
   "source": [
    "题目自 **洛谷** 。\n",
    "# [COCI2011-2012#2] KOMPIĆI\n",
    "\n",
    "## 题目描述\n",
    "\n",
    "给定 $N$ 个正整数 $A_1,A_2,...,A_N$，求有多少整数对 $(i,j)$，满足以下条件：\n",
    "\n",
    "- $1 \\le i < j \\le N$\n",
    "- **$A_i$ 和 $A_j$ 至少有一位数字是相同的（不一定要在相同的数位）**。\n",
    "\n",
    "## 输入格式\n",
    "\n",
    "输入的第一行包含一个正整数 $N$。\n",
    "\n",
    "接下来 $N$ 行，每行包含一个正整数 $A_i$。\n",
    "\n",
    "## 输出格式\n",
    "\n",
    "输出一行一个整数，表示满足条件的整数对。\n",
    "\n",
    "## 样例 #1\n",
    "\n",
    "### 样例输入 #1\n",
    "\n",
    "```\n",
    "3\n",
    "4\n",
    "20\n",
    "44\n",
    "```\n",
    "\n",
    "### 样例输出 #1\n",
    "\n",
    "```\n",
    "1\n",
    "```\n",
    "\n",
    "## 样例 #2\n",
    "\n",
    "### 样例输入 #2\n",
    "\n",
    "```\n",
    "4\n",
    "32\n",
    "51\n",
    "123\n",
    "282\n",
    "```\n",
    "\n",
    "### 样例输出 #2\n",
    "\n",
    "```\n",
    "4\n",
    "```\n",
    "\n",
    "## 提示\n",
    "\n",
    "#### 【样例解释】\n",
    "\n",
    "样例 1 中，满足要求的整数对为 $(1,3)$。\n",
    "\n",
    "样例 2 中，满足要求的整数对为 $(1,3)$，$(1,4)$，$(2,3)$，$(3,4)$。\n",
    "\n",
    "#### 【数据范围】\n",
    "\n",
    "对于 $100\\%$ 的数据，$1 \\le N \\le 10^6$，$1 \\le A_i \\le 10^{18}$。\n",
    "\n",
    "#### 【说明】\n",
    "\n",
    "本题分值按 COCI 原题设置，满分 $120$。"
   ],
   "metadata": {
    "collapsed": false
   }
  },
  {
   "cell_type": "markdown",
   "source": [
    "## 【解析】\n",
    "由题目可以看出，我们每个**输入数字的具体形式**并不感兴趣，我们只需要得知**每个输入的数字中的是否出现了0~9中的数，与出现了哪几个**。\n",
    "因此数位出现的情况可以用一个十位二进制数表示，每个位分别表示对应数字是否出现。\n",
    "例如：\n",
    "+ 输入 3456，可以表示为：    0001111000\n",
    "+ 输入 011566，可以表示为：  0001100011\n",
    "+ 输入 1234 或 44223311 都表示为：0000011110\n",
    "这样，对于每一个数字，都可以把它抽象为一个**二进制的数**\n",
    "由于10位二进制的范围为[0, 0b1111111111]，即[0, 1023],所以我们可以用一个长度为1024的数组$num\\_li$来记录所有的情况。\n",
    "$num\\_li$的索引$i$可以看做对应状态，如果$i$为0，则对应状态没有出现；如果对应状态出现，则$num\\_li[i] += 1$，表示数位为状态$i$的数增加一个。\n",
    "\n",
    "所以在程序中，我们先将所有输入数字的状态记录到$num\\_li$中\n",
    "然后双重循环遍历$num\\_li$，记外层循环为$i$，内层循环为$j$\n",
    "+ 在内层循环中：如果$i \\& j != 0$，则$i$与$j$状态有至少一位是相同的，那么$res += num\\_li[i] * num\\_li[j]$，因为状态$i$的每一个数字都要与状态$j$的每一个数字匹配一次，即笛卡尔乘积。\n",
    "+ 在外层循环中：$res += num\\_li[i] * (num\\_li[i] - 1) // 2$这是$i == j$的情况，在这种情况下每一个数字要与出自己外的数字匹配，并且去重(整除2)\n",
    "最后返回结果即可"
   ],
   "metadata": {
    "collapsed": false
   }
  },
  {
   "cell_type": "code",
   "execution_count": null,
   "outputs": [],
   "source": [
    "# 本题使用Python最后三个会超时\n",
    "num_li = [0] * 1034\n",
    "res = 0\n",
    "\n",
    "n = int(input())\n",
    "for _ in range(n):\n",
    "    cur_num = int(input())\n",
    "    tmp_num = 0\n",
    "    while cur_num:\n",
    "        cur_num, rest = divmod(cur_num, 10)\n",
    "        tmp_num |= 1 << rest\n",
    "    num_li[tmp_num] += 1\n",
    "\n",
    "for i in range(1024):\n",
    "    for j in range(i+1, 1024):\n",
    "        if i & j:\n",
    "            res += num_li[i] * num_li[j]\n",
    "    res += num_li[i] * (num_li[i] - 1) // 2\n",
    "\n",
    "\n",
    "print(res)"
   ],
   "metadata": {
    "collapsed": false
   }
  }
 ],
 "metadata": {
  "kernelspec": {
   "display_name": "Python 3",
   "language": "python",
   "name": "python3"
  },
  "language_info": {
   "codemirror_mode": {
    "name": "ipython",
    "version": 2
   },
   "file_extension": ".py",
   "mimetype": "text/x-python",
   "name": "python",
   "nbconvert_exporter": "python",
   "pygments_lexer": "ipython2",
   "version": "2.7.6"
  }
 },
 "nbformat": 4,
 "nbformat_minor": 0
}
